{
  "nbformat": 4,
  "nbformat_minor": 0,
  "metadata": {
    "colab": {
      "provenance": []
    },
    "kernelspec": {
      "name": "python3",
      "display_name": "Python 3"
    },
    "language_info": {
      "name": "python"
    }
  },
  "cells": [
    {
      "cell_type": "code",
      "source": [
        "import matplotlib.pyplot as plt\n",
        "from matplotlib.patches import Rectangle\n",
        "import numpy as np\n",
        "import random\n",
        "facecolors = {0: 'red', 1: 'blue', 2: 'green', 3: 'orange', 4:'purple', 5: 'black', 6: 'gray'}"
      ],
      "metadata": {
        "id": "40orhsQBXyJy"
      },
      "execution_count": 1,
      "outputs": []
    },
    {
      "cell_type": "code",
      "execution_count": 2,
      "metadata": {
        "id": "8ES2phk1XEVX"
      },
      "outputs": [],
      "source": [
        "# determine sector bounds when decomposing area along its width\n",
        "def sector_boundaries_w(n, width, height):\n",
        "    sector_w = width / n\n",
        "    sector_bounds = []\n",
        "    for i in range(n):\n",
        "          x1 = i * sector_w\n",
        "          y1 = 0\n",
        "          x2 = (i + 1) * sector_w\n",
        "          y2 = height\n",
        "          sector_bounds.append((x1, y1, x2, y2))\n",
        "    return sector_bounds\n",
        "\n",
        "\n",
        "# determine sector bounds when decomposing area along its height\n",
        "def sector_boundaries_h(n, width, height):\n",
        "    sector_h = height / n\n",
        "    sector_bounds = []\n",
        "    for i in range(n):\n",
        "          x1 = 0\n",
        "          y1 = i * sector_h\n",
        "          x2 = width\n",
        "          y2 = (i + 1) * sector_h\n",
        "          sector_bounds.append((x1, y1, x2, y2))\n",
        "    return sector_bounds"
      ]
    },
    {
      "cell_type": "code",
      "source": [
        "# plot sector bounds\n",
        "def visualize_sectors(total_area, sector_bounds = None, filename = None):\n",
        "  fig, ax = plt.subplots()\n",
        "\n",
        "  ax.add_patch(Rectangle((0, 0), total_area[0], total_area[1], facecolor='blue', alpha=0.2, edgecolor='black', linewidth=3))\n",
        "  if sector_bounds is not None:\n",
        "    for i, sector in enumerate(sector_bounds):\n",
        "      ax.add_patch(Rectangle((sector[0], sector[1]), sector[2]-sector[0], sector[3]-sector[1], facecolor=facecolors[i], alpha=0.2, linewidth=0))\n",
        "\n",
        "  #display plot\n",
        "  plt.axis('scaled')\n",
        "  if filename is not None:\n",
        "    plt.savefig(filename)\n",
        "  plt.show()"
      ],
      "metadata": {
        "id": "rvwVVakGXtHx"
      },
      "execution_count": 3,
      "outputs": []
    },
    {
      "cell_type": "code",
      "source": [
        "# generate visualizations of the simple area decompositions along x and y axes\n",
        "\n",
        "n = 4\n",
        "width = 10\n",
        "height = 5\n",
        "\n",
        "bnds = sector_boundaries_w(n, width, height)\n",
        "visualize_sectors([width, height], bnds, filename='decomposition_width.png')\n",
        "\n",
        "\n",
        "bnds = sector_boundaries_h(n, width, height)\n",
        "visualize_sectors([width, height], bnds, filename='decomposition_height.png')"
      ],
      "metadata": {
        "colab": {
          "base_uri": "https://localhost:8080/",
          "height": 413
        },
        "id": "CgCNlwkIXWhE",
        "outputId": "e450c57b-b186-4594-fe24-bfe7c008c3ce"
      },
      "execution_count": 4,
      "outputs": [
        {
          "output_type": "display_data",
          "data": {
            "text/plain": [
              "<Figure size 432x288 with 1 Axes>"
            ],
            "image/png": "[encoded data removed]"
          },
          "metadata": {
            "needs_background": "light"
          }
        },
        {
          "output_type": "display_data",
          "data": {
            "text/plain": [
              "<Figure size 432x288 with 1 Axes>"
            ],
            "image/png": "[encoded data removed]"
          },
          "metadata": {
            "needs_background": "light"
          }
        }
      ]
    },
    {
      "cell_type": "code",
      "source": [
        "# MEASURE M3 and M4 metrics\n",
        "\n",
        "# x_axis divide\n",
        "\n",
        "M3s = []\n",
        "M4s = []\n",
        "\n",
        "for x in range(100000):\n",
        "  positions = np.array([[np.random.random()*2.5 + i*2.5, np.random.random()*5] for i in range(4)])\n",
        "  min_distances = []\n",
        "  for i in range(4):\n",
        "    distances = []\n",
        "    for j in range(4):\n",
        "      if i != j:\n",
        "        distances.append(np.linalg.norm(positions[i] - positions[j]))\n",
        "    min_distances.append(min(distances))\n",
        "  M3s.append(max(min_distances))\n",
        "  M4s.append(any(np.array(min_distances) > 5))\n",
        "\n",
        "print(sum(M3s)/len(M3s))\n",
        "print(sum(M4s)/len(M4s))\n",
        "\n",
        "# y_axis divide\n",
        "M3s = []\n",
        "M4s = []\n",
        "\n",
        "\n",
        "for x in range(100000):\n",
        "  positions = np.array([[np.random.random()*10, (np.random.random()+i)*5/4] for i in range(4)])\n",
        "  min_distances = []\n",
        "  for i in range(4):\n",
        "    distances = []\n",
        "    for j in range(4):\n",
        "      if i != j:\n",
        "        distances.append(np.linalg.norm(positions[i] - positions[j]))\n",
        "    min_distances.append(min(distances))\n",
        "  M3s.append(max(min_distances))\n",
        "  M4s.append(any(np.array(min_distances) > 5))\n",
        "\n",
        "print(sum(M3s)/len(M3s))\n",
        "print(sum(M4s)/len(M4s))\n",
        "  "
      ],
      "metadata": {
        "colab": {
          "base_uri": "https://localhost:8080/"
        },
        "id": "9cSwkSMIOuOO",
        "outputId": "8919b182-3900-436c-dd14-8ff172452c93"
      },
      "execution_count": 5,
      "outputs": [
        {
          "output_type": "stream",
          "name": "stdout",
          "text": [
            "3.8114450994346507\n",
            "0.08664\n",
            "3.910327992725159\n",
            "0.20012\n"
          ]
        }
      ]
    },
    {
      "cell_type": "code",
      "source": [
        "# The other method of generating the area decomposition\n",
        "\n",
        "def origin_points(n, width, height):\n",
        "  return [[np.random.random()*width, np.random.random()*height] for _ in range(n)]\n",
        "\n",
        "def generate_discrete_map(width, height):\n",
        "  assert width == int(width)\n",
        "  assert height == int(height)\n",
        "  map = {}\n",
        "  for i in range(width):\n",
        "    for j in range(height):\n",
        "      map[(i, j)]  = None\n",
        "  return map\n",
        "\n",
        "def voronoi_tesselation(map, origin_points):\n",
        "  for key in map.keys():\n",
        "    distances = np.linalg.norm(origin_points - np.array(key), axis=-1)\n",
        "    closest = np.argmin(distances)\n",
        "    map[key] = closest\n",
        "  return map\n",
        "\n",
        "def visualize_tesselation(n, width, height, map, filename = None):\n",
        "  fig, ax = plt.subplots()\n",
        "\n",
        "  ax.add_patch(Rectangle((0, 0), width, height, facecolor='blue', alpha=0.2, edgecolor='black', linewidth=3))\n",
        "  for key in map.keys():\n",
        "    ax.add_patch(Rectangle((key[0], key[1]), 1, 1, facecolor=facecolors[map[key]], alpha=0.4, linewidth=0))\n",
        "\n",
        "  #display plot\n",
        "  plt.axis('scaled')\n",
        "  if filename is not None:\n",
        "    plt.savefig(filename)\n",
        "  plt.show()"
      ],
      "metadata": {
        "id": "13uN5IODbpFx"
      },
      "execution_count": 6,
      "outputs": []
    },
    {
      "cell_type": "code",
      "source": [
        "# An example of randomly generated decomposition\n",
        "\n",
        "n = 4\n",
        "width = 10\n",
        "height = 5\n",
        "\n",
        "points = origin_points(n, width, height)\n",
        "map = generate_discrete_map(width, height)\n",
        "map = voronoi_tesselation(map, points)\n",
        "visualize_tesselation(n, width, height, map)"
      ],
      "metadata": {
        "colab": {
          "base_uri": "https://localhost:8080/",
          "height": 215
        },
        "id": "T6UtSIDWb-jr",
        "outputId": "8cd5c1db-306a-4145-f214-05ee7bd80018"
      },
      "execution_count": 7,
      "outputs": [
        {
          "output_type": "display_data",
          "data": {
            "text/plain": [
              "<Figure size 432x288 with 1 Axes>"
            ],
            "image/png": "[encoded data removed]"
          },
          "metadata": {
            "needs_background": "light"
          }
        }
      ]
    },
    {
      "cell_type": "code",
      "source": [
        "# code for calculating metrics for the area decomposition method\n",
        "\n",
        "def getKeysByValue(dictOfElements, valueToFind):\n",
        "    listOfKeys = list()\n",
        "    listOfItems = dictOfElements.items()\n",
        "    for item  in listOfItems:\n",
        "        if item[1] == valueToFind:\n",
        "            listOfKeys.append(item[0])\n",
        "    return  listOfKeys\n",
        "\n",
        "def generate_samples(map):\n",
        "  points = []\n",
        "  for i in range(4):\n",
        "    bases = getKeysByValue(map, i)\n",
        "    if len(bases) == 0:\n",
        "      return None\n",
        "    base = random.choice(bases)\n",
        "    points.append([base[0]+np.random.random(), base[1]+np.random.random()])\n",
        "\n",
        "  return points"
      ],
      "metadata": {
        "id": "oPcU2Skxgpq5"
      },
      "execution_count": 8,
      "outputs": []
    },
    {
      "cell_type": "code",
      "source": [
        "# essentially inefficient random search for finding area decompositions with a better metric\n",
        "\n",
        "def generate_and_evaluate_random_decomp(n, width, height):\n",
        "\n",
        "  points = origin_points(n, width, height)\n",
        "  map = generate_discrete_map(width, height)\n",
        "  map = voronoi_tesselation(map, points)\n",
        "\n",
        "  M3s = []\n",
        "  M4s = []\n",
        "\n",
        "  for x in range(1000):\n",
        "    positions = np.array(generate_samples(map))\n",
        "    if positions is None:\n",
        "      return None, None, None\n",
        "    min_distances = []\n",
        "    for i in range(4):\n",
        "      distances = []\n",
        "      for j in range(4):\n",
        "        if i != j:\n",
        "          distances.append(np.linalg.norm(positions[i] - positions[j]))\n",
        "      min_distances.append(min(distances))\n",
        "    M3s.append(max(min_distances))\n",
        "    M4s.append(any(np.array(min_distances) > 5))\n",
        "\n",
        "  return map, sum(M3s)/len(M3s), sum(M4s)/len(M4s)"
      ],
      "metadata": {
        "id": "EKXe96lphDqa"
      },
      "execution_count": 9,
      "outputs": []
    },
    {
      "cell_type": "code",
      "source": [
        "n = 4\n",
        "width = 10\n",
        "height = 5\n",
        "\n",
        "m = 10 # set to a 1000\n",
        "\n",
        "bestM3 = None\n",
        "bestM3score = 1000\n",
        "bestM4 = None\n",
        "bestM4score = 1000\n",
        "\n",
        "for i in range(m):\n",
        "  if i%50 ==0:\n",
        "    print(f\"{i}/{m}\")\n",
        "  try:\n",
        "    map, M3score, M4score = generate_and_evaluate_random_decomp(n, width, height)\n",
        "  except:\n",
        "    print(\"A weird error?\")\n",
        "    map = None\n",
        "  if map is None:\n",
        "    pass\n",
        "  if M3score < bestM3score:\n",
        "    bestM3score = M3score\n",
        "    bestM3 = map\n",
        "  if M4score < bestM4score:\n",
        "    bestM4score = M4score\n",
        "    bestM4 = map\n",
        "\n",
        "print(bestM3score)\n",
        "visualize_tesselation(n, width, height, bestM3)\n",
        "\n",
        "print(bestM4score)\n",
        "visualize_tesselation(n, width, height, bestM4)\n"
      ],
      "metadata": {
        "colab": {
          "base_uri": "https://localhost:8080/",
          "height": 465
        },
        "id": "CWqtmYhghdjw",
        "outputId": "979b0cd8-b755-4b92-fffa-6bf360e939cc"
      },
      "execution_count": 10,
      "outputs": [
        {
          "output_type": "stream",
          "name": "stdout",
          "text": [
            "0/10\n",
            "3.728594975661326\n"
          ]
        },
        {
          "output_type": "display_data",
          "data": {
            "text/plain": [
              "<Figure size 432x288 with 1 Axes>"
            ],
            "image/png": "[encoded data removed]"
          },
          "metadata": {
            "needs_background": "light"
          }
        },
        {
          "output_type": "stream",
          "name": "stdout",
          "text": [
            "0.078\n"
          ]
        },
        {
          "output_type": "display_data",
          "data": {
            "text/plain": [
              "<Figure size 432x288 with 1 Axes>"
            ],
            "image/png": "[encoded data removed]"
          },
          "metadata": {
            "needs_background": "light"
          }
        }
      ]
    },
    {
      "cell_type": "code",
      "source": [
        "# Calculate metrics on full 100000 range\n",
        "\n",
        "M3s = []\n",
        "M4s = []\n",
        "\n",
        "for x in range(100000):\n",
        "  positions = np.array(generate_samples(bestM4))\n",
        "  min_distances = []\n",
        "  for i in range(4):\n",
        "    distances = []\n",
        "    for j in range(4):\n",
        "      if i != j:\n",
        "        distances.append(np.linalg.norm(positions[i] - positions[j]))\n",
        "    min_distances.append(min(distances))\n",
        "  M3s.append(max(min_distances))\n",
        "  M4s.append(any(np.array(min_distances) > 5))\n",
        "\n",
        "print(sum(M3s)/len(M3s))\n",
        "print(sum(M4s)/len(M4s))\n",
        "visualize_tesselation(n, width, height, bestM4, filename=\"M4optimized.png\")\n"
      ],
      "metadata": {
        "colab": {
          "base_uri": "https://localhost:8080/",
          "height": 250
        },
        "id": "Ya0enLRckHu5",
        "outputId": "2aeace0d-f2cf-4ab1-e118-366951edfa10"
      },
      "execution_count": 11,
      "outputs": [
        {
          "output_type": "stream",
          "name": "stdout",
          "text": [
            "3.7553003417151443\n",
            "0.08079\n"
          ]
        },
        {
          "output_type": "display_data",
          "data": {
            "text/plain": [
              "<Figure size 432x288 with 1 Axes>"
            ],
            "image/png": "[encoded data removed]"
          },
          "metadata": {
            "needs_background": "light"
          }
        }
      ]
    }
  ]
}